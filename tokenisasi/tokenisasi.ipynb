{
  "nbformat": 4,
  "nbformat_minor": 0,
  "metadata": {
    "colab": {
      "provenance": []
    },
    "kernelspec": {
      "name": "python3",
      "display_name": "Python 3"
    },
    "language_info": {
      "name": "python"
    }
  },
  "cells": [
    {
      "cell_type": "code",
      "execution_count": 1,
      "metadata": {
        "id": "H-iCcWv-qPx3"
      },
      "outputs": [],
      "source": [
        "from tensorflow.keras.preprocessing.text import Tokenizer"
      ]
    },
    {
      "cell_type": "code",
      "source": [
        "tokenizer = Tokenizer(num_words= 15, oov_token='-')"
      ],
      "metadata": {
        "id": "cPYIPeHBq7zy"
      },
      "execution_count": 2,
      "outputs": []
    },
    {
      "cell_type": "code",
      "source": [
        "teks = ['Saya suka programming',\n",
        "        'Programming sangat menyenangkan!',\n",
        "        'Machine Learning berbeda dengan pemrograman konvensional']"
      ],
      "metadata": {
        "id": "B96JsEVXq-hB"
      },
      "execution_count": 3,
      "outputs": []
    },
    {
      "cell_type": "code",
      "source": [
        "tokenizer.fit_on_texts(teks)"
      ],
      "metadata": {
        "id": "rJjjGbmgq_wY"
      },
      "execution_count": 4,
      "outputs": []
    },
    {
      "cell_type": "code",
      "source": [
        "sequences = tokenizer.texts_to_sequences(teks)"
      ],
      "metadata": {
        "id": "sScFzJLzrCef"
      },
      "execution_count": 5,
      "outputs": []
    },
    {
      "cell_type": "code",
      "source": [
        "print(tokenizer.word_index)"
      ],
      "metadata": {
        "colab": {
          "base_uri": "https://localhost:8080/"
        },
        "id": "AIH5y74wrGAI",
        "outputId": "1508d9e5-fdc1-41d7-961c-d0322eca2e2f"
      },
      "execution_count": 6,
      "outputs": [
        {
          "output_type": "stream",
          "name": "stdout",
          "text": [
            "{'-': 1, 'programming': 2, 'saya': 3, 'suka': 4, 'sangat': 5, 'menyenangkan': 6, 'machine': 7, 'learning': 8, 'berbeda': 9, 'dengan': 10, 'pemrograman': 11, 'konvensional': 12}\n"
          ]
        }
      ]
    },
    {
      "cell_type": "code",
      "source": [
        "from tensorflow.keras.preprocessing.sequence import pad_sequences\n",
        "sequences_samapanjang = pad_sequences(sequences)"
      ],
      "metadata": {
        "id": "dUD7XivDrRIy"
      },
      "execution_count": 7,
      "outputs": []
    },
    {
      "cell_type": "code",
      "source": [
        "print(sequences_samapanjang)"
      ],
      "metadata": {
        "colab": {
          "base_uri": "https://localhost:8080/"
        },
        "id": "YS_G1AhRrVwI",
        "outputId": "ab195037-19ff-42f9-b632-3ed051b9c4ac"
      },
      "execution_count": 8,
      "outputs": [
        {
          "output_type": "stream",
          "name": "stdout",
          "text": [
            "[[ 0  0  0  3  4  2]\n",
            " [ 0  0  0  2  5  6]\n",
            " [ 7  8  9 10 11 12]]\n"
          ]
        }
      ]
    },
    {
      "cell_type": "code",
      "source": [
        "sequences_samapanjang = pad_sequences(sequences,\n",
        "                                      padding='post',\n",
        "                                      maxlen=5,\n",
        "                                      truncating='post')"
      ],
      "metadata": {
        "id": "pdzamW-WrtE0"
      },
      "execution_count": 10,
      "outputs": []
    }
  ]
}